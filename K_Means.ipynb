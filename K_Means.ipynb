{
 "cells": [
  {
   "cell_type": "markdown",
   "metadata": {
    "id": "GVcgsRoa8Wqm"
   },
   "source": [
    "### \"Número óptimo de clústeres para agrupamiento con K-medias\""
   ]
  },
  {
   "cell_type": "code",
   "execution_count": 2,
   "metadata": {
    "id": "F6TYUIfd8Wqm"
   },
   "outputs": [],
   "source": [
    "import numpy as np\n",
    "import pandas as pd\n",
    "import matplotlib.pyplot as plt\n",
    "from sklearn.datasets import make_blobs\n",
    "from sklearn.cluster import KMeans\n",
    "%matplotlib inline"
   ]
  },
  {
   "cell_type": "code",
   "execution_count": 3,
   "metadata": {
    "id": "DoQGluSi8Wqq"
   },
   "outputs": [
    {
     "data": {
      "text/plain": [
       "(150, 8)"
      ]
     },
     "execution_count": 3,
     "metadata": {},
     "output_type": "execute_result"
    }
   ],
   "source": [
    "# Usaremos datos simulados.\n",
    "# 3 grupos en un espacio de 8 dimensiones.\n",
    "\n",
    "X, label = make_blobs(n_samples=150, n_features=8, centers=3, cluster_std = 2, random_state=123)\n",
    "X.shape"
   ]
  },
  {
   "cell_type": "markdown",
   "metadata": {
    "id": "pgQYnKB08Wqt"
   },
   "source": [
    "1). Definir una función que calcule la \"suma interna total de cuadrados\".\n",
    "- X         :   Datos.\n",
    "- centers   :   Matriz que contiene las coordenadas del centroide. Calculado por kmeans.\n",
    "- clusters  :   Matriz de etiquetas de clústeres. Calculado por kmeans. <br> <br>\n"
   ]
  },
  {
   "cell_type": "code",
   "execution_count": 4,
   "metadata": {
    "id": "vAAXBvWY8Wqt"
   },
   "outputs": [],
   "source": [
    "# W(Ck)=  ∑  ∑  (x−μi)^2  -> (fórmula de clase) -> Suma interna total de cuadrados \n",
    " \n",
    "def total_internal_ss(X, centers, clusters):\n",
    "    total_clusters = centers.shape[0]\n",
    "    total_filas = X.shape[0]\n",
    "    total_columnas = centers.shape[1]\n",
    "    centroide = np.zeros((total_filas, total_columnas))\n",
    "   \n",
    "    for k in range(total_clusters):\n",
    "        cluster = (clusters == k)\n",
    "        for i in range(total_columnas):\n",
    "            centroide[cluster, i] = centers[k, i]             \n",
    "    return np.sum((X - centroide)**2)     #   La suma de las distancias euclídeas al cuadrado entre cada observación (x) \n",
    "                                          #   y el centroide (μi) de su cluster."
   ]
  },
  {
   "cell_type": "markdown",
   "metadata": {
    "id": "zasFq4eP8Wqw"
   },
   "source": [
    "2). Visualizar con un diagrama de dispersión la \"suma interna total de cuadrados\" vs N# de grupos y determinar el número de clusteres."
   ]
  },
  {
   "cell_type": "code",
   "execution_count": 5,
   "metadata": {
    "id": "L2gZp3nq8Wqx"
   },
   "outputs": [
    {
     "name": "stdout",
     "output_type": "stream",
     "text": [
      "[10921.71272404  4665.30132239  4413.37473988  4198.35618094\n",
      "  3981.85937322  3837.92942812  3691.83061508  3613.11771797]\n"
     ]
    }
   ],
   "source": [
    "n_grupos = np.array(range(2,10))  # comienzo a partir de 2 porque para 1 no me da información.                \n",
    "STC = np.array([])                             \n",
    "for k in n_grupos:\n",
    "    k_means = KMeans(n_clusters = k)\n",
    "    clusters = k_means.fit(X).labels_\n",
    "    centers = k_means.cluster_centers_\n",
    "    STC = np.append(STC, total_internal_ss(X,centers,clusters))\n",
    "print(STC)"
   ]
  },
  {
   "cell_type": "code",
   "execution_count": 18,
   "metadata": {
    "id": "WlJv5jKf8Wqz"
   },
   "outputs": [
    {
     "data": {
      "image/png": "[encoded data removed]",
      "text/plain": [
       "<Figure size 432x288 with 1 Axes>"
      ]
     },
     "metadata": {
      "needs_background": "light"
     },
     "output_type": "display_data"
    }
   ],
   "source": [
    "fig = plt.figure()\n",
    "axes = fig.add_axes([0,0,1,1])\n",
    "plt.plot(n_grupos, STC, color = 'r', linestyle = '--', marker = '*')\n",
    "axes.set_title('Diagrama de dispersión de STC vs No. de grupos')\n",
    "axes.set_xlabel('n_grupos')\n",
    "axes.set_ylabel('STC')\n",
    "plt.show()"
   ]
  },
  {
   "cell_type": "markdown",
   "metadata": {},
   "source": [
    "Teniendo en cuenta la distancia que hay entre agrupamiento y agrupamiento, tal y como se observa en el eje de STC, y que hay un salto importante entre los grupos 2 y 3, tal como se observa en el eje n_grupos, se puede concluir que el número de grupos esperado sí es 3. "
   ]
  }
 ],
 "metadata": {
  "colab": {
   "name": "problem_0401.ipynb",
   "provenance": []
  },
  "kernelspec": {
   "display_name": "Python 3",
   "language": "python",
   "name": "python3"
  },
  "language_info": {
   "codemirror_mode": {
    "name": "ipython",
    "version": 3
   },
   "file_extension": ".py",
   "mimetype": "text/x-python",
   "name": "python",
   "nbconvert_exporter": "python",
   "pygments_lexer": "ipython3",
   "version": "3.8.8"
  }
 },
 "nbformat": 4,
 "nbformat_minor": 1
}
